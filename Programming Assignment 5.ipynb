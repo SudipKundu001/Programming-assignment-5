{
 "cells": [
  {
   "cell_type": "markdown",
   "id": "c30273d8",
   "metadata": {},
   "source": [
    ">__1.\tWrite a Python Program to Find LCM?__"
   ]
  },
  {
   "cell_type": "code",
   "execution_count": 1,
   "id": "6bdc0579",
   "metadata": {},
   "outputs": [
    {
     "name": "stdout",
     "output_type": "stream",
     "text": [
      "LCM of 15 and 20 is 60.0\n"
     ]
    }
   ],
   "source": [
    "def gcd(a,b):\n",
    "    if a == 0:\n",
    "        return b\n",
    "    return gcd(b % a, a)\n",
    "\n",
    "# Function to return LCM of two numbers\n",
    "def lcm(a,b):\n",
    "    return (a / gcd(a,b))* b\n",
    "\n",
    "a = 15\n",
    "b = 20\n",
    "print('LCM of', a, 'and', b, 'is', lcm(a, b))"
   ]
  },
  {
   "cell_type": "markdown",
   "id": "e35aa159",
   "metadata": {},
   "source": [
    ">__2.\tWrite a Python Program to Find HCF?__"
   ]
  },
  {
   "cell_type": "code",
   "execution_count": 2,
   "id": "6d8ac098",
   "metadata": {},
   "outputs": [
    {
     "name": "stdout",
     "output_type": "stream",
     "text": [
      "GCD of 98 and 56 is 14\n"
     ]
    }
   ],
   "source": [
    "def gcd(a,b):\n",
    "    if (b == 0):\n",
    "        return a\n",
    "    return gcd(b, a%b)\n",
    "\n",
    "a = 98\n",
    "b = 56\n",
    "if(gcd(a, b)):\n",
    "    print('GCD of', a, 'and', b, 'is', gcd(a, b))\n",
    "else:\n",
    "    print('not found')"
   ]
  },
  {
   "cell_type": "markdown",
   "id": "4c5f197d",
   "metadata": {},
   "source": [
    ">__3.\tWrite a Python Program to Convert Decimal to Binary, Octal and Hexadecimal?__"
   ]
  },
  {
   "cell_type": "code",
   "execution_count": 17,
   "id": "ba2c4992",
   "metadata": {},
   "outputs": [
    {
     "name": "stdout",
     "output_type": "stream",
     "text": [
      "32  in Binary :  0b100000\n",
      "32 in Octal :  0o40\n",
      "32  in Hexadecimal :  0x20\n"
     ]
    }
   ],
   "source": [
    "# Function to convert decimal to binary\n",
    "def decimal_to_binary(dec):\n",
    "    decimal = int(dec)\n",
    "\n",
    "    # Prints equivalent decimal\n",
    "    print(decimal, \" in Binary : \", bin(decimal))\n",
    "\n",
    "# Function to convert decimal to octal\n",
    "def decimal_to_octal(dec):\n",
    "    decimal = int(dec)\n",
    "\n",
    "    # Prints equivalent decimal\n",
    "    print(decimal, \"in Octal : \", oct(decimal))\n",
    "\n",
    "# Function to convert decimal to hexadecimal\n",
    "def decimal_to_hexadecimal(dec):\n",
    "    decimal = int(dec)\n",
    "\n",
    "    # Prints equivalent decimal\n",
    "    print(decimal, \" in Hexadecimal : \", hex(decimal))\n",
    "\n",
    "# Driver program\n",
    "dec = 32\n",
    "decimal_to_binary(dec)\n",
    "decimal_to_octal(dec)\n",
    "decimal_to_hexadecimal(dec)"
   ]
  },
  {
   "cell_type": "markdown",
   "id": "9f97ceca",
   "metadata": {},
   "source": [
    ">__4.\tWrite a Python Program To Find ASCII value of a character?__"
   ]
  },
  {
   "cell_type": "code",
   "execution_count": 18,
   "id": "7744bbf7",
   "metadata": {},
   "outputs": [
    {
     "name": "stdout",
     "output_type": "stream",
     "text": [
      "The ASCII value of 'g' is 103\n"
     ]
    }
   ],
   "source": [
    "c = 'g'\n",
    "\n",
    "print(\"The ASCII value of '\" + c + \"' is\", ord(c))"
   ]
  },
  {
   "cell_type": "markdown",
   "id": "f78ccd7d",
   "metadata": {},
   "source": [
    ">__5.\tWrite a Python Program to Make a Simple Calculator with 4 basic mathematical operations?__"
   ]
  },
  {
   "cell_type": "code",
   "execution_count": 20,
   "id": "b0483b43",
   "metadata": {},
   "outputs": [
    {
     "name": "stdout",
     "output_type": "stream",
     "text": [
      "Please select operation -\n",
      "1. Add\n",
      "2. Subtract\n",
      "3. Multiply\n",
      "4. Divide\n",
      "\n",
      "Select operations form 1, 2, 3, 4 :3\n",
      "Enter first number: 20\n",
      "Enter second number: 2\n",
      "20 * 2 = 40\n"
     ]
    }
   ],
   "source": [
    "\n",
    "# Function to add two numbers\n",
    "def add(num1, num2):\n",
    "    return num1 + num2\n",
    "\n",
    "# Function to subtract two numbers\n",
    "def subtract(num1, num2):\n",
    "    return num1 - num2\n",
    "\n",
    "# Function to multiply two numbers\n",
    "def multiply(num1, num2):\n",
    "    return num1 * num2\n",
    "\n",
    "# Function to divide two numbers\n",
    "def divide(num1, num2):\n",
    "    return num1 / num2\n",
    "\n",
    "print(\"Please select operation -\\n\" \\\n",
    "        \"1. Add\\n\" \\\n",
    "        \"2. Subtract\\n\" \\\n",
    "        \"3. Multiply\\n\" \\\n",
    "        \"4. Divide\\n\")\n",
    "\n",
    "\n",
    "# Take input from the user\n",
    "select = int(input(\"Select operations form 1, 2, 3, 4 :\"))\n",
    "\n",
    "number_1 = int(input(\"Enter first number: \"))\n",
    "number_2 = int(input(\"Enter second number: \"))\n",
    "\n",
    "if select == 1:\n",
    "    print(number_1, \"+\", number_2, \"=\",\n",
    "                    add(number_1, number_2))\n",
    "\n",
    "elif select == 2:\n",
    "    print(number_1, \"-\", number_2, \"=\",\n",
    "                    subtract(number_1, number_2))\n",
    "\n",
    "elif select == 3:\n",
    "    print(number_1, \"*\", number_2, \"=\",\n",
    "                    multiply(number_1, number_2))\n",
    "\n",
    "elif select == 4:\n",
    "    print(number_1, \"/\", number_2, \"=\",\n",
    "                    divide(number_1, number_2))\n",
    "else:\n",
    "    print(\"Invalid input\")\n"
   ]
  }
 ],
 "metadata": {
  "kernelspec": {
   "display_name": "Python 3",
   "language": "python",
   "name": "python3"
  },
  "language_info": {
   "codemirror_mode": {
    "name": "ipython",
    "version": 3
   },
   "file_extension": ".py",
   "mimetype": "text/x-python",
   "name": "python",
   "nbconvert_exporter": "python",
   "pygments_lexer": "ipython3",
   "version": "3.8.8"
  }
 },
 "nbformat": 4,
 "nbformat_minor": 5
}
